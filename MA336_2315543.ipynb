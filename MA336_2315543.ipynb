{
 "cells": [
  {
   "cell_type": "markdown",
   "id": "9d010bce",
   "metadata": {},
   "source": [
    "### Intoduction\n",
    "\n",
    "In Modern agriculture, farmers must optimise crop yield to ensure profitability and sustainability. Assessing soil conditions, including nitrogen, phosphorus, potassium levels, and pH values, is crucial in determining the ideal crop for a specific field.\n",
    "\n",
    "However, this process can be costly and time-consuming, this prompts farmers to prioritise specific soil metrics based on budget constraints. To address this challenge, a machine learning approach is required to develop very good models capable of accurately predicting the optimal crop based on soil characteristics."
   ]
  },
  {
   "cell_type": "markdown",
   "id": "3d504bb0",
   "metadata": {},
   "source": [
    "### Problem Statement\n",
    "This aim of this project is to build and comapre multiple classification algorithms to predict crop types using soil metrics and providing farmers with efficient decsiion-making tools for crop selection.\n",
    "\n",
    "Objectives:\n",
    "1. Build and compare five (5) classification algorithm and select the best performing model\n",
    "\n",
    "\n",
    "2. Using the identified best model, build an application that helps farmers to make effective and efficient crop selection decisions"
   ]
  },
  {
   "cell_type": "markdown",
   "id": "0a090ea4",
   "metadata": {},
   "source": [
    "### Methods:\n",
    "\n",
    "1. #### Data collection and Preparation: \n",
    "The dataset, obtained from DataCamp (Famous online Data Science Platform - https://www.datacamp.com/) containing the soil metrics and crop types will be loaded and read. \n",
    "\n",
    "2. Data Prereprocessing:\n",
    "Missing values were checked, and ategorical variables were encoded using Label Encoder.\n",
    "\n",
    "2. #### Exploratory Data Analysis (EDA):\n",
    "Exploaratory data analysis was performed in order to identify relevant patterns, features, correlations and their importance in predicting crop types.\n",
    "\n",
    "3. #### Model Selection:\n",
    "Various classification algorithm such as Logistic regression,Random Forests, Decision Trees, Gradient Boosting, and SUpport Vector Machines (SVM) which are suitable for multi-class classification tasks were used.\n",
    "\n",
    "4. #### Model Training and Evaluation:\n",
    "Each Algorithm are trained  using the training data, the performance were evaluated using by using metrics such as accuracy, precisions, recall, and F1 score.\n",
    "\n",
    "5. #### Hyperparameter Tuning:\n",
    "The parameters of the selected algorithms were fine-tunned using GridSearch method to optimize the performance of the models.\n",
    "\n",
    "6. #### Model Comparison:\n",
    "The performance of the different algorithms were compared and the best-performing model for predicting crop types based on the soil metrics in the dataset was identified\n",
    "\n",
    "7. #### crop predicting App:\n",
    "Finally, a crop-predicting app is built using the best-performing model."
   ]
  },
  {
   "cell_type": "code",
   "execution_count": 1,
   "id": "6d80e047",
   "metadata": {},
   "outputs": [],
   "source": [
    "# import libraries\n",
    "import pandas as pd\n",
    "import seaborn as sns\n",
    "import matplotlib.pyplot as plt"
   ]
  },
  {
   "cell_type": "markdown",
   "id": "359ea5e5",
   "metadata": {},
   "source": [
    "#### Data Preprocessing"
   ]
  },
  {
   "cell_type": "code",
   "execution_count": 2,
   "id": "6c9826ee",
   "metadata": {},
   "outputs": [],
   "source": [
    "# Load soil_measure dataset\n",
    "crops = pd.read_csv(\"soil_measures.csv\")"
   ]
  },
  {
   "cell_type": "code",
   "execution_count": 3,
   "id": "a10b558e",
   "metadata": {},
   "outputs": [
    {
     "data": {
      "text/html": [
       "<div>\n",
       "<style scoped>\n",
       "    .dataframe tbody tr th:only-of-type {\n",
       "        vertical-align: middle;\n",
       "    }\n",
       "\n",
       "    .dataframe tbody tr th {\n",
       "        vertical-align: top;\n",
       "    }\n",
       "\n",
       "    .dataframe thead th {\n",
       "        text-align: right;\n",
       "    }\n",
       "</style>\n",
       "<table border=\"1\" class=\"dataframe\">\n",
       "  <thead>\n",
       "    <tr style=\"text-align: right;\">\n",
       "      <th></th>\n",
       "      <th>N</th>\n",
       "      <th>P</th>\n",
       "      <th>K</th>\n",
       "      <th>pH</th>\n",
       "      <th>crop</th>\n",
       "    </tr>\n",
       "  </thead>\n",
       "  <tbody>\n",
       "    <tr>\n",
       "      <th>0</th>\n",
       "      <td>90</td>\n",
       "      <td>42</td>\n",
       "      <td>43</td>\n",
       "      <td>6.502985</td>\n",
       "      <td>rice</td>\n",
       "    </tr>\n",
       "    <tr>\n",
       "      <th>1</th>\n",
       "      <td>85</td>\n",
       "      <td>58</td>\n",
       "      <td>41</td>\n",
       "      <td>7.038096</td>\n",
       "      <td>rice</td>\n",
       "    </tr>\n",
       "    <tr>\n",
       "      <th>2</th>\n",
       "      <td>60</td>\n",
       "      <td>55</td>\n",
       "      <td>44</td>\n",
       "      <td>7.840207</td>\n",
       "      <td>rice</td>\n",
       "    </tr>\n",
       "    <tr>\n",
       "      <th>3</th>\n",
       "      <td>74</td>\n",
       "      <td>35</td>\n",
       "      <td>40</td>\n",
       "      <td>6.980401</td>\n",
       "      <td>rice</td>\n",
       "    </tr>\n",
       "    <tr>\n",
       "      <th>4</th>\n",
       "      <td>78</td>\n",
       "      <td>42</td>\n",
       "      <td>42</td>\n",
       "      <td>7.628473</td>\n",
       "      <td>rice</td>\n",
       "    </tr>\n",
       "  </tbody>\n",
       "</table>\n",
       "</div>"
      ],
      "text/plain": [
       "    N   P   K        pH  crop\n",
       "0  90  42  43  6.502985  rice\n",
       "1  85  58  41  7.038096  rice\n",
       "2  60  55  44  7.840207  rice\n",
       "3  74  35  40  6.980401  rice\n",
       "4  78  42  42  7.628473  rice"
      ]
     },
     "execution_count": 3,
     "metadata": {},
     "output_type": "execute_result"
    }
   ],
   "source": [
    "# Display the first few rows of the dataset\n",
    "crops.head()"
   ]
  },
  {
   "cell_type": "markdown",
   "id": "3d42ca1b",
   "metadata": {},
   "source": [
    "#### Exploratory Data Analysis"
   ]
  },
  {
   "cell_type": "code",
   "execution_count": 4,
   "id": "e433d4c6",
   "metadata": {},
   "outputs": [
    {
     "data": {
      "text/html": [
       "<div>\n",
       "<style scoped>\n",
       "    .dataframe tbody tr th:only-of-type {\n",
       "        vertical-align: middle;\n",
       "    }\n",
       "\n",
       "    .dataframe tbody tr th {\n",
       "        vertical-align: top;\n",
       "    }\n",
       "\n",
       "    .dataframe thead th {\n",
       "        text-align: right;\n",
       "    }\n",
       "</style>\n",
       "<table border=\"1\" class=\"dataframe\">\n",
       "  <thead>\n",
       "    <tr style=\"text-align: right;\">\n",
       "      <th></th>\n",
       "      <th>N</th>\n",
       "      <th>P</th>\n",
       "      <th>K</th>\n",
       "      <th>pH</th>\n",
       "    </tr>\n",
       "  </thead>\n",
       "  <tbody>\n",
       "    <tr>\n",
       "      <th>count</th>\n",
       "      <td>2200.000000</td>\n",
       "      <td>2200.000000</td>\n",
       "      <td>2200.000000</td>\n",
       "      <td>2200.000000</td>\n",
       "    </tr>\n",
       "    <tr>\n",
       "      <th>mean</th>\n",
       "      <td>50.551818</td>\n",
       "      <td>53.362727</td>\n",
       "      <td>48.149091</td>\n",
       "      <td>6.469480</td>\n",
       "    </tr>\n",
       "    <tr>\n",
       "      <th>std</th>\n",
       "      <td>36.917334</td>\n",
       "      <td>32.985883</td>\n",
       "      <td>50.647931</td>\n",
       "      <td>0.773938</td>\n",
       "    </tr>\n",
       "    <tr>\n",
       "      <th>min</th>\n",
       "      <td>0.000000</td>\n",
       "      <td>5.000000</td>\n",
       "      <td>5.000000</td>\n",
       "      <td>3.504752</td>\n",
       "    </tr>\n",
       "    <tr>\n",
       "      <th>25%</th>\n",
       "      <td>21.000000</td>\n",
       "      <td>28.000000</td>\n",
       "      <td>20.000000</td>\n",
       "      <td>5.971693</td>\n",
       "    </tr>\n",
       "    <tr>\n",
       "      <th>50%</th>\n",
       "      <td>37.000000</td>\n",
       "      <td>51.000000</td>\n",
       "      <td>32.000000</td>\n",
       "      <td>6.425045</td>\n",
       "    </tr>\n",
       "    <tr>\n",
       "      <th>75%</th>\n",
       "      <td>84.250000</td>\n",
       "      <td>68.000000</td>\n",
       "      <td>49.000000</td>\n",
       "      <td>6.923643</td>\n",
       "    </tr>\n",
       "    <tr>\n",
       "      <th>max</th>\n",
       "      <td>140.000000</td>\n",
       "      <td>145.000000</td>\n",
       "      <td>205.000000</td>\n",
       "      <td>9.935091</td>\n",
       "    </tr>\n",
       "  </tbody>\n",
       "</table>\n",
       "</div>"
      ],
      "text/plain": [
       "                 N            P            K           pH\n",
       "count  2200.000000  2200.000000  2200.000000  2200.000000\n",
       "mean     50.551818    53.362727    48.149091     6.469480\n",
       "std      36.917334    32.985883    50.647931     0.773938\n",
       "min       0.000000     5.000000     5.000000     3.504752\n",
       "25%      21.000000    28.000000    20.000000     5.971693\n",
       "50%      37.000000    51.000000    32.000000     6.425045\n",
       "75%      84.250000    68.000000    49.000000     6.923643\n",
       "max     140.000000   145.000000   205.000000     9.935091"
      ]
     },
     "execution_count": 4,
     "metadata": {},
     "output_type": "execute_result"
    }
   ],
   "source": [
    "# Explore the Summary Statistics\n",
    "crops.describe()"
   ]
  },
  {
   "cell_type": "markdown",
   "id": "11b30563",
   "metadata": {},
   "source": [
    "The summary statistics above provide insight into the distribution and the variability of the soil metrics.\n",
    "\n",
    "The range of values for each soil metric (Nitrogen, Phosphorus, Potassium, pH) is quite broad, suggesting significant variability in soil composition across the samples.\n",
    "\n",
    "The interquartile range (IQR) for Nitrogen (N) is from 21 to 84.25, which shows that 50% of the samples fall within this range.\n",
    "\n",
    "A higher standard deviation for Potassium (K) (50.65) suggests greater variability in the potassium level of the soil compared to other metrics.\n",
    "\n",
    "pH values range from acidic (minimum of 3.50) to alkaline (maximum of 9.94). The mean pH value is approximately 6.47, suggesting a slightly acidic to neutral soil pH overall."
   ]
  },
  {
   "cell_type": "code",
   "execution_count": 5,
   "id": "c43a3160",
   "metadata": {},
   "outputs": [
    {
     "name": "stdout",
     "output_type": "stream",
     "text": [
      "<class 'pandas.core.frame.DataFrame'>\n",
      "RangeIndex: 2200 entries, 0 to 2199\n",
      "Data columns (total 5 columns):\n",
      " #   Column  Non-Null Count  Dtype  \n",
      "---  ------  --------------  -----  \n",
      " 0   N       2200 non-null   int64  \n",
      " 1   P       2200 non-null   int64  \n",
      " 2   K       2200 non-null   int64  \n",
      " 3   pH      2200 non-null   float64\n",
      " 4   crop    2200 non-null   object \n",
      "dtypes: float64(1), int64(3), object(1)\n",
      "memory usage: 86.1+ KB\n"
     ]
    }
   ],
   "source": [
    "# Check for a concise summary of the DataFrame\n",
    "crops.info()"
   ]
  },
  {
   "cell_type": "markdown",
   "id": "8bfae617",
   "metadata": {},
   "source": [
    "The dataset has 2200 observations, each representing soil metrics and the corresponding crop type.\n",
    "The dataset consists of five features which are \"N\", \"P\", \"K\", \"pH\" and  \"crop\"\n",
    "The \"crop\" column is a categorical variable while others are numerical.\n"
   ]
  },
  {
   "cell_type": "code",
   "execution_count": 6,
   "id": "8c7e2ecb",
   "metadata": {},
   "outputs": [
    {
     "data": {
      "text/plain": [
       "N       0\n",
       "P       0\n",
       "K       0\n",
       "pH      0\n",
       "crop    0\n",
       "dtype: int64"
      ]
     },
     "execution_count": 6,
     "metadata": {},
     "output_type": "execute_result"
    }
   ],
   "source": [
    "# Check for missing values\n",
    "crops.isna().sum()"
   ]
  },
  {
   "cell_type": "markdown",
   "id": "e15e5301",
   "metadata": {},
   "source": [
    "There are no missing data in the soil_measures dataset."
   ]
  },
  {
   "cell_type": "code",
   "execution_count": 7,
   "id": "21f8e503",
   "metadata": {},
   "outputs": [
    {
     "name": "stdout",
     "output_type": "stream",
     "text": [
      "Class distribution:\n",
      "rice           100\n",
      "maize          100\n",
      "jute           100\n",
      "cotton         100\n",
      "coconut        100\n",
      "papaya         100\n",
      "orange         100\n",
      "apple          100\n",
      "muskmelon      100\n",
      "watermelon     100\n",
      "grapes         100\n",
      "mango          100\n",
      "banana         100\n",
      "pomegranate    100\n",
      "lentil         100\n",
      "blackgram      100\n",
      "mungbean       100\n",
      "mothbeans      100\n",
      "pigeonpeas     100\n",
      "kidneybeans    100\n",
      "chickpea       100\n",
      "coffee         100\n",
      "Name: crop, dtype: int64\n"
     ]
    }
   ],
   "source": [
    "# Check for class imbalance\n",
    "print(\"Class distribution:\")\n",
    "print(crops['crop'].value_counts())"
   ]
  },
  {
   "cell_type": "markdown",
   "id": "be82e2ff",
   "metadata": {},
   "source": [
    "There is no evidence of class imbalance, as all the crop types have equal number of samples. With a balance class distribution, machine learning models can learn from each class equally, this suggest that in this project, there is less likelihood of exhibition of bias, which leads to more accurate predictions and usability of the model for unseen data."
   ]
  },
  {
   "cell_type": "code",
   "execution_count": 8,
   "id": "5bdcb876",
   "metadata": {
    "scrolled": true
   },
   "outputs": [
    {
     "data": {
      "image/png": "[encoded data removed]",
      "text/plain": [
       "<Figure size 576x432 with 1 Axes>"
      ]
     },
     "metadata": {
      "needs_background": "light"
     },
     "output_type": "display_data"
    }
   ],
   "source": [
    "# Visualise the distribution of crop types\n",
    "plt.figure(figsize=(8, 6))\n",
    "sns.countplot(data=crops, x=\"crop\")\n",
    "plt.title(\"Distribution of Crop Types\")\n",
    "plt.xlabel(\"Crop Type\")\n",
    "plt.xticks(rotation=90)\n",
    "plt.show()"
   ]
  },
  {
   "cell_type": "markdown",
   "id": "11c1a65a",
   "metadata": {},
   "source": [
    "The soil_measure dataset appears to have equal represntation of each crop type with 100 samples for each of the 22 crop types. This suggests a balanced distribution of classes across the dataset"
   ]
  },
  {
   "cell_type": "code",
   "execution_count": 9,
   "id": "2e5b8c7d",
   "metadata": {},
   "outputs": [
    {
     "data": {
      "image/png": "[encoded data removed]",
      "text/plain": [
       "<Figure size 864x576 with 4 Axes>"
      ]
     },
     "metadata": {
      "needs_background": "light"
     },
     "output_type": "display_data"
    }
   ],
   "source": [
    "# Visualise the distribution of the metrics\n",
    "plt.figure(figsize=(12, 8))\n",
    "plt.subplot(2, 2, 1)\n",
    "sns.histplot(data=crops, x=\"N\", bins=20, kde=True, color=\"skyblue\")\n",
    "plt.title(\"Distribution of Nitrogen (N)\")\n",
    "\n",
    "plt.subplot(2, 2, 2)\n",
    "sns.histplot(data=crops, x=\"P\", bins=20, kde=True, color=\"Salmon\")\n",
    "plt.title(\"Distribution of Phosphorus (P)\")\n",
    "\n",
    "plt.subplot(2, 2, 3)\n",
    "sns.histplot(data=crops, x=\"K\", bins=20, kde=True, color=\"green\")\n",
    "plt.title(\"Distribution of Potassium (K)\")\n",
    "\n",
    "plt.subplot(2, 2, 4)\n",
    "sns.histplot(data=crops, x=\"pH\", bins=20, kde=True, color=\"purple\")\n",
    "plt.title(\"Distribution of pH\")\n",
    "\n",
    "\n",
    "plt.tight_layout()\n",
    "plt.show()"
   ]
  },
  {
   "cell_type": "markdown",
   "id": "2e51bd23",
   "metadata": {},
   "source": [
    "From the histogram, the distribution of Nitrogen appears relatively normal with a peak around 20-40.\n",
    "\n",
    "The distribution of Phosphorus appears skewed to the right, with a peak around 40-60. and more samples more higher concentrations of phosphoru.\n",
    "\n",
    "Potassium: The distribution of potassium also appears skewed to the right, with a peak around 15-25. The histogram suggests that there seems to be more samples with higher concentrations of potassium.\n",
    "\n",
    "pH: The distribution appears somewhat normal with a peak between the pH of 6-7, which is considered neutral.\n"
   ]
  },
  {
   "cell_type": "code",
   "execution_count": 10,
   "id": "a237b607",
   "metadata": {},
   "outputs": [],
   "source": [
    "# Import library\n",
    "from sklearn.preprocessing import LabelEncoder\n",
    "\n",
    "# Initialise labelEncoder\n",
    "label_encoder = LabelEncoder()\n",
    "\n",
    "# Encode the \"crop\" column(target variable\n",
    "crops[\"crop\"] = label_encoder.fit_transform(crops[\"crop\"])"
   ]
  },
  {
   "cell_type": "markdown",
   "id": "41114249",
   "metadata": {},
   "source": [
    "The labelEncoder method was used to encode the \"crop\" column in the DataFrame (\"crops\") whic is the target variable.\n",
    "\n",
    "This encoding transforms the categorical labels into numerical values, making it easier for machine learning algorithms to interpret and process them during model training."
   ]
  },
  {
   "cell_type": "code",
   "execution_count": 11,
   "id": "695d7dd2",
   "metadata": {},
   "outputs": [
    {
     "data": {
      "text/html": [
       "<div>\n",
       "<style scoped>\n",
       "    .dataframe tbody tr th:only-of-type {\n",
       "        vertical-align: middle;\n",
       "    }\n",
       "\n",
       "    .dataframe tbody tr th {\n",
       "        vertical-align: top;\n",
       "    }\n",
       "\n",
       "    .dataframe thead th {\n",
       "        text-align: right;\n",
       "    }\n",
       "</style>\n",
       "<table border=\"1\" class=\"dataframe\">\n",
       "  <thead>\n",
       "    <tr style=\"text-align: right;\">\n",
       "      <th></th>\n",
       "      <th>N</th>\n",
       "      <th>P</th>\n",
       "      <th>K</th>\n",
       "      <th>pH</th>\n",
       "      <th>crop</th>\n",
       "    </tr>\n",
       "  </thead>\n",
       "  <tbody>\n",
       "    <tr>\n",
       "      <th>N</th>\n",
       "      <td>1.000000</td>\n",
       "      <td>-0.231460</td>\n",
       "      <td>-0.140512</td>\n",
       "      <td>0.096683</td>\n",
       "      <td>-0.031130</td>\n",
       "    </tr>\n",
       "    <tr>\n",
       "      <th>P</th>\n",
       "      <td>-0.231460</td>\n",
       "      <td>1.000000</td>\n",
       "      <td>0.736232</td>\n",
       "      <td>-0.138019</td>\n",
       "      <td>-0.491006</td>\n",
       "    </tr>\n",
       "    <tr>\n",
       "      <th>K</th>\n",
       "      <td>-0.140512</td>\n",
       "      <td>0.736232</td>\n",
       "      <td>1.000000</td>\n",
       "      <td>-0.169503</td>\n",
       "      <td>-0.346417</td>\n",
       "    </tr>\n",
       "    <tr>\n",
       "      <th>pH</th>\n",
       "      <td>0.096683</td>\n",
       "      <td>-0.138019</td>\n",
       "      <td>-0.169503</td>\n",
       "      <td>1.000000</td>\n",
       "      <td>-0.012253</td>\n",
       "    </tr>\n",
       "    <tr>\n",
       "      <th>crop</th>\n",
       "      <td>-0.031130</td>\n",
       "      <td>-0.491006</td>\n",
       "      <td>-0.346417</td>\n",
       "      <td>-0.012253</td>\n",
       "      <td>1.000000</td>\n",
       "    </tr>\n",
       "  </tbody>\n",
       "</table>\n",
       "</div>"
      ],
      "text/plain": [
       "             N         P         K        pH      crop\n",
       "N     1.000000 -0.231460 -0.140512  0.096683 -0.031130\n",
       "P    -0.231460  1.000000  0.736232 -0.138019 -0.491006\n",
       "K    -0.140512  0.736232  1.000000 -0.169503 -0.346417\n",
       "pH    0.096683 -0.138019 -0.169503  1.000000 -0.012253\n",
       "crop -0.031130 -0.491006 -0.346417 -0.012253  1.000000"
      ]
     },
     "execution_count": 11,
     "metadata": {},
     "output_type": "execute_result"
    }
   ],
   "source": [
    "# correlation between  soil metrics and crop type\n",
    "metrics_corr = crops.corr()\n",
    "metrics_corr"
   ]
  },
  {
   "cell_type": "code",
   "execution_count": 12,
   "id": "e1370622",
   "metadata": {},
   "outputs": [
    {
     "data": {
      "image/png": "[encoded data removed]",
      "text/plain": [
       "<Figure size 1152x1008 with 2 Axes>"
      ]
     },
     "metadata": {
      "needs_background": "light"
     },
     "output_type": "display_data"
    }
   ],
   "source": [
    "plt.figure(figsize=(16, 14))\n",
    "sns.heatmap(crops.corr(), annot=True, cmap=\"PuRd\", fmt=\".2f\", linewidths=0.5)\n",
    "plt.title(\"correlation Heatmap\")\n",
    "plt.show()"
   ]
  },
  {
   "cell_type": "markdown",
   "id": "1c7546eb",
   "metadata": {},
   "source": [
    "In the correlation matrix, there are correlations observed between some pairs of soil metrics:\n",
    "Nitrogen (N) and Phosphorus (P) have a negative correlation coefficient of approximately -0.231. This suggests a weak negative linear relationship between Nitrogen and Phosphorus levels.\n",
    "\n",
    "Phosphorus (P) and Potassium (K) have a positive correlation coefficient of approximately 0.736. This indicates a strong positive linear relationship between Phosphorus and Potassium levels.\n",
    "\n",
    "Other correlations between soil metrics are relatively weak (close to 0), suggesting little to no linear relationship between them.\n",
    "\n",
    "\n",
    "Furthermore, the correlation coefficients between soil metrics and crop type are relatively low in magnitude, indicating weak linear relationships.\n",
    "\n",
    "However, negative correlations are observed between some soil metrics (e.g., Phosphorus and Potassium) and crop type. This suggests that specific soil metrics may influence the type of crop grown."
   ]
  },
  {
   "cell_type": "code",
   "execution_count": 13,
   "id": "2827782a",
   "metadata": {},
   "outputs": [
    {
     "data": {
      "image/png": "[encoded data removed]",
      "text/plain": [
       "<Figure size 720x432 with 1 Axes>"
      ]
     },
     "metadata": {
      "needs_background": "light"
     },
     "output_type": "display_data"
    }
   ],
   "source": [
    "# create boxplot for soil metric\n",
    "plt.figure(figsize=(10, 6))\n",
    "crops.boxplot(column=[\"N\", \"P\", \"K\", \"pH\"], grid=False)\n",
    "plt.title(\"Boxplot of Soil Metrics\"),\n",
    "plt.xlabel(\"Soil Metrics\")\n",
    "plt.ylabel(\"Values\")\n",
    "plt.show()"
   ]
  },
  {
   "cell_type": "markdown",
   "id": "231e4d9b",
   "metadata": {},
   "source": [
    "In the boxplot, the median value for nitrogen is around 50; for phosphorus, it's around 30; for potassium, it's around 60; and for pH, it's close to 7.\n",
    "The IQR for nitrogen suggests that half of the data points have values between 25 and 75."
   ]
  },
  {
   "cell_type": "markdown",
   "id": "afc4d340",
   "metadata": {},
   "source": [
    "####  Model Building"
   ]
  },
  {
   "cell_type": "code",
   "execution_count": 14,
   "id": "716573d1",
   "metadata": {},
   "outputs": [],
   "source": [
    "# import libraries\n",
    "from sklearn.preprocessing import StandardScaler\n",
    "from sklearn.model_selection import train_test_split, GridSearchCV\n",
    "from sklearn.linear_model import LogisticRegression\n",
    "from sklearn.tree import DecisionTreeClassifier\n",
    "from sklearn.ensemble import RandomForestClassifier, GradientBoostingClassifier\n",
    "from sklearn.svm import SVC \n",
    "from sklearn.metrics import accuracy_score, precision_score, recall_score, recall_score, f1_score "
   ]
  },
  {
   "cell_type": "code",
   "execution_count": 15,
   "id": "84e178ce",
   "metadata": {},
   "outputs": [],
   "source": [
    "# Split into feature and target sets\n",
    "X = crops.drop(columns=\"crop\")\n",
    "y = crops[\"crop\"]"
   ]
  },
  {
   "cell_type": "code",
   "execution_count": 16,
   "id": "3d7aafe7",
   "metadata": {},
   "outputs": [],
   "source": [
    "# Standardise the features\n",
    "scaler = StandardScaler()\n",
    "X_scaled = scaler.fit_transform(X)"
   ]
  },
  {
   "cell_type": "code",
   "execution_count": 17,
   "id": "001b99c3",
   "metadata": {},
   "outputs": [],
   "source": [
    "# Split the scaled data into training and tester\n",
    "X_train, X_test, y_train, y_test = train_test_split(X_scaled, y, test_size=0.2, random_state=50)"
   ]
  },
  {
   "cell_type": "markdown",
   "id": "20217ff5",
   "metadata": {},
   "source": [
    "\"X\" is the feature matrix which contains all columns except the \"crop\" column\n",
    "\"y\" is the target variable\n",
    "\n",
    "The features are standardized to help improve performance, stability and interpretability of the models. It ensures that the feature are on the same scale and have similar distributions\n",
    "\n",
    "The scaled feature (\"X_scaled\") and the target variable (\"y\") are split into training snd testing sets using \"train_test_split\"\n",
    "\n",
    "The training set (\"X_train\", \"y_train\") contains 80% of the data while the testing set (\"X_test\", \"y_test\") contains 20% of the data"
   ]
  },
  {
   "cell_type": "code",
   "execution_count": 18,
   "id": "f6e90de4",
   "metadata": {},
   "outputs": [],
   "source": [
    "# Step 6: Define a dictionary of classifiers with parameter grids for hyperparameter tuning\n",
    "classifiers = {\n",
    "    \"Logistic Regression\": (LogisticRegression(max_iter=1000, multi_class=\"multinomial\"), \n",
    "                             {'C': [0.001, 0.01, 0.1, 1, 10, 100], 'solver': ['newton-cg', 'lbfgs', 'liblinear', 'sag', 'saga']}),\n",
    "    \n",
    "    \"Decision Tree\": (DecisionTreeClassifier(), \n",
    "                      {'max_depth': [None, 5, 10, 15, 20], 'min_samples_split': [2, 5, 10], 'min_samples_leaf': [1, 2, 4]}),\n",
    "    \n",
    "    \"Random Forest\": (RandomForestClassifier(), \n",
    "                      {'n_estimators': [50, 100, 200], 'max_depth': [None, 10, 20], \n",
    "                       'min_samples_split': [2, 5, 10], 'min_samples_leaf': [1, 2, 4]}),\n",
    "    \n",
    "    \"Gradient Boosting\": (GradientBoostingClassifier(), \n",
    "                          {'n_estimators': [50, 100, 200], 'learning_rate': [0.01, 0.1, 0.5, 1]}),\n",
    "    \n",
    "    \"Support Vector Machine\": (SVC(), \n",
    "                               {'C': [0.1, 1, 10], 'kernel': ['linear', 'poly', 'rbf', 'sigmoid'], \n",
    "                                'gamma': ['scale', 'auto']})\n",
    "}\n",
    "\n",
    "\n",
    "# Reference:\n",
    "# the values for hyperparameter tuning were adapted and modified from stackoverflow overflow.com/)"
   ]
  },
  {
   "cell_type": "markdown",
   "id": "6a4f8cb8",
   "metadata": {},
   "source": [
    "#### Model Comparison, Hyperparameter Tunning, Model Training and Evaluation"
   ]
  },
  {
   "cell_type": "code",
   "execution_count": 19,
   "id": "a213d5ef",
   "metadata": {},
   "outputs": [
    {
     "name": "stderr",
     "output_type": "stream",
     "text": [
      "C:\\ProgramData\\Anaconda3\\lib\\site-packages\\sklearn\\model_selection\\_validation.py:372: FitFailedWarning: \n",
      "30 fits failed out of a total of 150.\n",
      "The score on these train-test partitions for these parameters will be set to nan.\n",
      "If these failures are not expected, you can try to debug them by setting error_score='raise'.\n",
      "\n",
      "Below are more details about the failures:\n",
      "--------------------------------------------------------------------------------\n",
      "30 fits failed with the following error:\n",
      "Traceback (most recent call last):\n",
      "  File \"C:\\ProgramData\\Anaconda3\\lib\\site-packages\\sklearn\\model_selection\\_validation.py\", line 680, in _fit_and_score\n",
      "    estimator.fit(X_train, y_train, **fit_params)\n",
      "  File \"C:\\ProgramData\\Anaconda3\\lib\\site-packages\\sklearn\\linear_model\\_logistic.py\", line 1519, in fit\n",
      "    multi_class = _check_multi_class(self.multi_class, solver, len(self.classes_))\n",
      "  File \"C:\\ProgramData\\Anaconda3\\lib\\site-packages\\sklearn\\linear_model\\_logistic.py\", line 483, in _check_multi_class\n",
      "    raise ValueError(\"Solver %s does not support a multinomial backend.\" % solver)\n",
      "ValueError: Solver liblinear does not support a multinomial backend.\n",
      "\n",
      "  warnings.warn(some_fits_failed_message, FitFailedWarning)\n",
      "C:\\ProgramData\\Anaconda3\\lib\\site-packages\\sklearn\\model_selection\\_search.py:969: UserWarning: One or more of the test scores are non-finite: [0.32102273 0.32102273        nan 0.32159091 0.32102273 0.45056818\n",
      " 0.45056818        nan 0.45056818 0.45056818 0.62954545 0.62954545\n",
      "        nan 0.62954545 0.62954545 0.69147727 0.69147727        nan\n",
      " 0.69147727 0.69147727 0.70340909 0.70340909        nan 0.70340909\n",
      " 0.70397727 0.71193182 0.71193182        nan 0.7125     0.71193182]\n",
      "  warnings.warn(\n"
     ]
    },
    {
     "name": "stdout",
     "output_type": "stream",
     "text": [
      "Performance of Logistic Regression (after hyperparameter tuning):\n",
      "Accuracy: 0.7\n",
      "Precision: 0.6896719230480659\n",
      "Recall: 0.7\n",
      "F1 Score: 0.6866435707286027\n",
      "\n",
      "Performance of Decision Tree (after hyperparameter tuning):\n",
      "Accuracy: 0.7727272727272727\n",
      "Precision: 0.7881806714213193\n",
      "Recall: 0.7727272727272727\n",
      "F1 Score: 0.7638766852698387\n",
      "\n",
      "Performance of Random Forest (after hyperparameter tuning):\n",
      "Accuracy: 0.7954545454545454\n",
      "Precision: 0.8012757836695584\n",
      "Recall: 0.7954545454545454\n",
      "F1 Score: 0.790698991533738\n",
      "\n",
      "Performance of Gradient Boosting (after hyperparameter tuning):\n",
      "Accuracy: 0.7909090909090909\n",
      "Precision: 0.8031042622603489\n",
      "Recall: 0.7909090909090909\n",
      "F1 Score: 0.7870535722832991\n",
      "\n",
      "Performance of Support Vector Machine (after hyperparameter tuning):\n",
      "Accuracy: 0.775\n",
      "Precision: 0.7918263794142201\n",
      "Recall: 0.775\n",
      "F1 Score: 0.7670544150979768\n",
      "\n"
     ]
    }
   ],
   "source": [
    "# Train and evaluate each classifier with hyperparameter tuning\n",
    "model_performance = {}\n",
    "for clf_name, (clf, param_grid) in classifiers.items():\n",
    "    grid_search = GridSearchCV(clf, param_grid, cv=5, scoring='accuracy')\n",
    "    grid_search.fit(X_train, y_train)\n",
    "    \n",
    "    best_params = grid_search.best_params_\n",
    "    best_model = grid_search.best_estimator_\n",
    "    \n",
    "    y_pred = best_model.predict(X_test)\n",
    "    \n",
    "    accuracy = accuracy_score(y_test, y_pred)\n",
    "    precision = precision_score(y_test, y_pred, average=\"weighted\", zero_division=1)\n",
    "    recall = recall_score(y_test, y_pred, average=\"weighted\")\n",
    "    f1 = f1_score(y_test, y_pred, average=\"weighted\")\n",
    "    \n",
    "    model_performance[clf_name] = {\"Accuracy\": accuracy, \n",
    "                                    \"Precision\": precision, \"Recall\": recall, \"F1 Score\": f1}\n",
    "\n",
    "    # Print model performance\n",
    "    print(f\"Performance of {clf_name} (after hyperparameter tuning):\")\n",
    "    print(f\"Accuracy: {accuracy}\")\n",
    "    print(f\"Precision: {precision}\")\n",
    "    print(f\"Recall: {recall}\")\n",
    "    print(f\"F1 Score: {f1}\")\n",
    "    print()\n",
    "    \n",
    "\n",
    "# Reference:\n",
    "# the values for hyperparameter tuning were adapted and modified from stackoverflow overflow.com/)"
   ]
  },
  {
   "cell_type": "markdown",
   "id": "aa8b87f1",
   "metadata": {},
   "source": [
    "Grid Search for Hyperparameter Tuning: I defined a dictionary of classifiers and their respective parameter grids for hyperparameter tuning. This approach allows me to search for each classifier's best combination of hyperparameters systematically.\n",
    "\n",
    "Cross-Validation: I used 5-fold cross-validation (cv=5) within the GridSearchCV, which is a good practice to ensure the robustness of your model evaluation.\n",
    "\n",
    "Evaluation Metrics: You've calculated and printed several evaluation metrics, including accuracy, precision, recall, and F1-score, for each classifier. These metrics provide a comprehensive view of each model's performance.\n",
    "\n",
    "Handling Imbalanced Classes: I used the average=\"weighted\" parameter in the precision, recall, and F1-score calculations, which is suitable for handling imbalanced classes in multi-class classification problems.\n"
   ]
  },
  {
   "cell_type": "markdown",
   "id": "ff5b5135",
   "metadata": {},
   "source": [
    "#### Results"
   ]
  },
  {
   "cell_type": "markdown",
   "id": "70b990ec",
   "metadata": {},
   "source": [
    "To identify the best model, we need to consider which evaluation metric is most important for our task. Since we are predicting crop types, we want a model with high accuracy and generalization ability.\n",
    "Based on the performance results:\n",
    "\n",
    "Random Forest has the highest accuracy (0.7955) among all the models. It also has relatively high precision, recall, and F1 score.\n",
    "\n",
    "Gradient Boosting has a slightly lower accuracy (0.7909) than Random Forest but higher precision, recall, and F1 score.\n",
    "\n",
    "Decision Tree also performs well with accuracy (0.7727) close to Gradient Boosting and Random Forest.\n",
    "\n",
    "Considering both accuracy and the overall balance of precision, recall, and F1 score, Random Forest is the best-performing model for predicting crop types based on the soil metrics in the dataset. It offers a good balance between accuracy and generalization ability.\n",
    "\n",
    "Therefore,  for the crop prediction application, we use the Random Forest model to provide farmers with efficient decision-making tools for crop selection."
   ]
  },
  {
   "cell_type": "markdown",
   "id": "898e04a6",
   "metadata": {},
   "source": [
    "#### Crop Predicting App Creation"
   ]
  },
  {
   "cell_type": "code",
   "execution_count": 20,
   "id": "4a9bf43a",
   "metadata": {},
   "outputs": [
    {
     "name": "stdout",
     "output_type": "stream",
     "text": [
      "Welcome to the Crop Prediction App\n",
      "\n",
      " Please enter the following soil metric:\n",
      "Nitrogen content ratio in the soil (in percentage, 0-100): 78\n",
      "Phosphorus content ratio in the soil (in percentage, 0-100): 49\n",
      "Potassium content ratio in the soil (in percentage, 0-100): 87\n",
      "pH value of the soil (0-14): 7\n",
      "\n",
      "The predicted crop type is: mothbeans\n",
      "\n",
      "Do you want to predict another crop type? (yes/no)yes\n",
      "\n",
      " Please enter the following soil metric:\n",
      "Nitrogen content ratio in the soil (in percentage, 0-100): 78\n",
      "Phosphorus content ratio in the soil (in percentage, 0-100): 67\n",
      "Potassium content ratio in the soil (in percentage, 0-100): 56\n",
      "pH value of the soil (0-14): 3\n",
      "\n",
      "The predicted crop type is: mothbeans\n",
      "\n",
      "Do you want to predict another crop type? (yes/no)yes\n",
      "\n",
      " Please enter the following soil metric:\n",
      "Nitrogen content ratio in the soil (in percentage, 0-100): 67\n",
      "Phosphorus content ratio in the soil (in percentage, 0-100): 89\n",
      "Potassium content ratio in the soil (in percentage, 0-100): 45\n",
      "pH value of the soil (0-14): 8\n",
      "\n",
      "The predicted crop type is: mothbeans\n",
      "\n",
      "Do you want to predict another crop type? (yes/no)no\n"
     ]
    }
   ],
   "source": [
    "def get_soil_metrics():\n",
    "    \n",
    "    \"\"\"\n",
    "    Prompt User to input soil metrics and perform error handling.\n",
    "    Ensure that the values that are entered are within a specified range for each metric\n",
    "    Validate pH values to be within the specific range of 0-14\n",
    "    \"\"\"\n",
    "    while True:\n",
    "        try:\n",
    "            # Prompt user to input soil metrics\n",
    "            print(\"\\n Please enter the following soil metric:\")\n",
    "            N = float(input(\"Nitrogen content ratio in the soil (in percentage, 0-100): \"))\n",
    "            if not 0 <= N <= 100:\n",
    "                raise ValueError(\"Nitrogen content ratio should be between 0 and 100\")\n",
    "                \n",
    "            P = float(input(\"Phosphorus content ratio in the soil (in percentage, 0-100): \"))\n",
    "            if not 0 <= P <= 100:\n",
    "                raise ValueError(\"Phosphorus content ratio should be between 0 and 100\")\n",
    "                \n",
    "            K = float(input(\"Potassium content ratio in the soil (in percentage, 0-100): \"))\n",
    "            if not 0 <= K <= 100:\n",
    "                raise ValueError(\"Potassium content ratio should be between 0 and 100\")\n",
    "                \n",
    "            pH = float(input(\"pH value of the soil (0-14): \"))\n",
    "            if not 0 <= pH <= 14:\n",
    "                raise ValueError(\"pH value should be between 0 and 14\")\n",
    "                \n",
    "            return [N, P, K, pH]\n",
    "        except ValueError as e:\n",
    "            print(f\"Error: {e}. Please enter a valid value.\")\n",
    "\n",
    "            \n",
    "def predict_crop():\n",
    "    \"\"\"\n",
    "    Predict the crop type based on the soil metrics that is provided\n",
    "    \"\"\"\n",
    "    soil_metrics = get_soil_metrics()\n",
    "    crop_name =best_model.predict([soil_metrics])[0]\n",
    "    crop = label_encoder.inverse_transform([crop_name])[0]\n",
    "    return crop\n",
    "\n",
    "def main():\n",
    "    \"\"\"\n",
    "    Main function to run the Crop Prediction App.\n",
    "\n",
    "    \"\"\"\n",
    "    print(\"Welcome to the Crop Prediction App\")\n",
    "    while True:\n",
    "        crop = predict_crop()\n",
    "        print(f\"\\nThe predicted crop type is: {crop}\")\n",
    "        select =input(\"\\nDo you want to predict another crop type? (yes/no)\")\n",
    "        if select.lower() !=\"yes\":\n",
    "            break\n",
    "                \n",
    "# call main function directly\n",
    "main()"
   ]
  },
  {
   "cell_type": "markdown",
   "id": "ed0843c1",
   "metadata": {},
   "source": [
    "#### Conclusion and Recommendation\n",
    "More data needs to be used, better intuitive and user-friendly interface should be built and made accessible to farmers\n"
   ]
  },
  {
   "cell_type": "code",
   "execution_count": null,
   "id": "76c42575",
   "metadata": {},
   "outputs": [],
   "source": []
  }
 ],
 "metadata": {
  "kernelspec": {
   "display_name": "Python 3 (ipykernel)",
   "language": "python",
   "name": "python3"
  },
  "language_info": {
   "codemirror_mode": {
    "name": "ipython",
    "version": 3
   },
   "file_extension": ".py",
   "mimetype": "text/x-python",
   "name": "python",
   "nbconvert_exporter": "python",
   "pygments_lexer": "ipython3",
   "version": "3.9.12"
  }
 },
 "nbformat": 4,
 "nbformat_minor": 5
}
